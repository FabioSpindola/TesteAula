{
  "cells": [
    {
      "cell_type": "markdown",
      "metadata": {
        "id": "view-in-github",
        "colab_type": "text"
      },
      "source": [
        "<a href=\"https://colab.research.google.com/github/FabioSpindola/TesteAula/blob/main/BOOTCAMP_Projeto_Porto.ipynb\" target=\"_parent\"><img src=\"https://colab.research.google.com/assets/colab-badge.svg\" alt=\"Open In Colab\"/></a>"
      ]
    },
    {
      "cell_type": "markdown",
      "metadata": {
        "id": "PkPlQdZ7g7oh"
      },
      "source": [
        "#Inicio (import Mongo, Requerimentos e Criação do banco)"
      ]
    },
    {
      "cell_type": "markdown",
      "metadata": {
        "id": "RmYkJlIhPuSm"
      },
      "source": [
        "## import Mongo"
      ]
    },
    {
      "cell_type": "code",
      "execution_count": null,
      "metadata": {
        "id": "x914zal0ZWXr"
      },
      "outputs": [],
      "source": [
        "from google.colab import userdata\n",
        "MONGO_ACESSO = userdata.get(\"mongo_acesso\")\n",
        "!pip install pymongo\n",
        "!pip install email_validator"
      ]
    },
    {
      "cell_type": "markdown",
      "metadata": {
        "id": "Et7S05-hQZ_1"
      },
      "source": [
        "## Requerimentos"
      ]
    },
    {
      "cell_type": "code",
      "execution_count": null,
      "metadata": {
        "id": "_ND50_FBZvP4"
      },
      "outputs": [],
      "source": [
        "from pymongo import MongoClient\n",
        "from pymongo.errors import PyMongoError, DuplicateKeyError\n",
        "from bson import ObjectId\n",
        "from bson.errors import InvalidId\n",
        "from email_validator import validate_email, EmailNotValidError\n",
        "from IPython.display import clear_output\n",
        "from time import sleep\n",
        "from enum import unique\n",
        "from rich.console import Console\n",
        "from rich.table import Table\n",
        "from rich import box\n",
        "from rich.text import Text\n",
        "from rich.table import Table\n",
        "from rich.console import Console\n",
        "from collections import defaultdict"
      ]
    },
    {
      "cell_type": "markdown",
      "metadata": {
        "id": "ruMiyuQZQiL6"
      },
      "source": [
        "## Criação do banco"
      ]
    },
    {
      "cell_type": "code",
      "execution_count": null,
      "metadata": {
        "id": "tH5tQEdTagdx"
      },
      "outputs": [],
      "source": [
        "try:\n",
        "  mongo = MongoClient(MONGO_ACESSO)\n",
        "  banco = mongo['Sistema_Porto_db']\n",
        "  cursos = banco['cursos']\n",
        "  alunos = banco['Alunos']\n",
        "  avaliacoes = banco['Avaliacoes']\n",
        "\n",
        "except PyMongoError as e:\n",
        "  print(f'Erro ao conectar ao MongoDB: {e}')\n",
        "\n",
        "cursos.create_index('titulo', unique= True)\n",
        "print('tudo certo1')\n",
        "\n",
        "alunos.create_index('email', unique= True)\n",
        "print('tudo certo2')"
      ]
    },
    {
      "cell_type": "markdown",
      "metadata": {
        "id": "3hEhpFrdQnP2"
      },
      "source": [
        "# CRUD (Create, Read, Update, Delete)"
      ]
    },
    {
      "cell_type": "markdown",
      "metadata": {
        "id": "NPC_nxc5tOil"
      },
      "source": [
        "## Estilização"
      ]
    },
    {
      "cell_type": "code",
      "execution_count": null,
      "metadata": {
        "id": "KADLHIuZtUjO"
      },
      "outputs": [],
      "source": [
        "# linha\n",
        "def linha():\n",
        "  print(\"=\" * 90)\n",
        "\n",
        "#cabeçalho\n",
        "def cabecalho(titulo=\"Menu\"):\n",
        "  linha()\n",
        "  print(f\" {titulo} \".center(90))\n",
        "  linha()\n",
        "\n",
        "#delay\n",
        "def delay(s=1):\n",
        "  sleep(s)\n",
        "\n",
        "#limpar tela\n",
        "def limpar_tela():\n",
        "  clear_output()\n",
        "  delay()\n",
        "\n",
        "#pausa / volta menu\n",
        "def pausa():\n",
        "  input(\"Pressione [ENTER] para continuar\\n\")\n",
        "  delay()"
      ]
    },
    {
      "cell_type": "markdown",
      "metadata": {
        "id": "A6om6AYTaDlu"
      },
      "source": [
        "##Creates"
      ]
    },
    {
      "cell_type": "code",
      "execution_count": null,
      "metadata": {
        "id": "6kcGdZMPloZ5"
      },
      "outputs": [],
      "source": [
        "#Insert Alunos\n",
        "def criar_aluno():\n",
        "  while True:\n",
        "    try:\n",
        "      cabecalho(\"Criar Aluno\")\n",
        "      nome = input(\"Digite o nome do Aluno: \").strip()\n",
        "      if not nome:\n",
        "        print(\"Nome não pode ser vazio.\")\n",
        "        linha()\n",
        "        continue\n",
        "\n",
        "      email = input(\"\\nDigite um email válido: \").strip()\n",
        "      linha()\n",
        "\n",
        "      verifica = (\"Deseja criar o Aluno ou voltar para o menu(sair): \").strip().lower()\n",
        "\n",
        "      if verifica == \"sair\":\n",
        "        break\n",
        "\n",
        "      valida = validate_email(email)\n",
        "\n",
        "      alunos.insert_one({\"nome\": nome,\n",
        "                      \"email\": email\n",
        "                      })\n",
        "      print(\"Aluno Cadastrado!\")\n",
        "      linha()\n",
        "      break\n",
        "\n",
        "    except DuplicateKeyError as erro:\n",
        "        print(\"Email já cadastrado, tente outro\")\n",
        "    except PyMongoError as error:\n",
        "        print(f\"Erro ao Criar novo aluno {error}\")\n",
        "    except EmailNotValidError as e:\n",
        "        print(f\"Email Inserido não é valido!\")"
      ]
    },
    {
      "cell_type": "code",
      "execution_count": null,
      "metadata": {
        "id": "suz222Nqlp1F"
      },
      "outputs": [],
      "source": [
        "#Insert Cursos\n",
        "def criar_curso():\n",
        "  while True:\n",
        "    try:\n",
        "      cabecalho(\"Criar Curso\")\n",
        "      titulo = input(\"Digite um título para o Curso: \").strip()\n",
        "      categoria = input(\"Digite uma Categoria: \").strip()\n",
        "      carga_horaria = int(input(\"Digite a carga horária em horas: \").strip())\n",
        "      linha()\n",
        "\n",
        "      if carga_horaria <= 0:\n",
        "        print(\"Erro: A carga horaria deve ser maior que 0.\")\n",
        "        continue\n",
        "\n",
        "      verifica = (\"Deseja criar o Curso ou voltar para o menu(sair): \").strip().lower()\n",
        "\n",
        "      if verifica == \"sair\":\n",
        "        break\n",
        "\n",
        "      cursos.insert_one({\"titulo\":titulo,\n",
        "                        \"categoria\":categoria,\n",
        "                        \"carga_horaria\":carga_horaria\n",
        "                        })\n",
        "      print(\"Curso Cadastrado!\")\n",
        "      linha()\n",
        "      break\n",
        "\n",
        "    except DuplicateKeyError as erro:\n",
        "      print(\"Titulo já cadastrado, tente outro\")\n",
        "    except PyMongoError as error:\n",
        "      print(f\"Erro ao criar Novo curso{error}\")"
      ]
    },
    {
      "cell_type": "code",
      "execution_count": null,
      "metadata": {
        "id": "gmJoiAeWgAYZ"
      },
      "outputs": [],
      "source": [
        "#Insert avaliações:\n",
        "def avaliar_curso():\n",
        "  while True:\n",
        "    cabecalho(\"Avaliar Curso\")\n",
        "    email = input(\"Digite o e-mail do aluno: \").strip()\n",
        "    titulo = input(\"Digite o título do curso: \").strip()\n",
        "    linha()\n",
        "\n",
        "    if not email and not titulo:\n",
        "      print(\"Erro: Nenhum parametro foi passado\")\n",
        "      break\n",
        "\n",
        "    aluno = alunos.find_one({\"email\": email})\n",
        "    curso = cursos.find_one({\"titulo\": titulo})\n",
        "\n",
        "    if not aluno:\n",
        "      print(\"Erro: aluno não encontrado.\")\n",
        "      linha()\n",
        "      continue\n",
        "\n",
        "    if not curso:\n",
        "      print(\"Erro: curso não encontrado.\")\n",
        "      linha()\n",
        "      continue\n",
        "\n",
        "    verifica = (\"Deseja realizar a avalição ou voltar para o menu(sair): \").strip().lower()\n",
        "\n",
        "    if verifica == \"sair\":\n",
        "      break\n",
        "\n",
        "    avaliacao_existente = avaliacoes.find_one({\n",
        "      \"id_aluno\": aluno[\"_id\"],\n",
        "      \"id_curso\": curso[\"_id\"]\n",
        "    })\n",
        "\n",
        "    if avaliacao_existente:\n",
        "      print(\"Erro: este aluno já avaliou este curso.\")\n",
        "      linha()\n",
        "      break\n",
        "\n",
        "    try:\n",
        "      nota = int(input(\"Digite a nota de avaliação (1 a 5): \"))\n",
        "    except ValueError:\n",
        "      print(\"Erro: nota inválida.\")\n",
        "      linha()\n",
        "      continue\n",
        "\n",
        "    if nota < 1 or nota > 5:\n",
        "      print(\"Erro: a nota deve estar entre 1 e 5.\")\n",
        "      linha()\n",
        "      continue\n",
        "\n",
        "    comentario = input(\"Comentário (opcional): \")\n",
        "\n",
        "    avaliacoes.insert_one({\n",
        "      \"id_aluno\": aluno[\"_id\"],\n",
        "      \"id_curso\": curso[\"_id\"],\n",
        "      \"nota\": nota,\n",
        "      \"comentario\": comentario\n",
        "    })\n",
        "\n",
        "    print(f\"Avaliação registrada com sucesso para o curso '{titulo}'!\")\n",
        "    linha()\n",
        "    break"
      ]
    },
    {
      "cell_type": "markdown",
      "metadata": {
        "id": "29R_yNM_aI_Z"
      },
      "source": [
        "##Reads"
      ]
    },
    {
      "cell_type": "code",
      "execution_count": null,
      "metadata": {
        "id": "ksLRN5h9nurP"
      },
      "outputs": [],
      "source": [
        "# Listar todos os alunos cadastrados\n",
        "def listar_alunos():\n",
        "    try:\n",
        "        if alunos.count_documents({}) == 0:\n",
        "            print(\"Nenhum Aluno cadastrado.\")\n",
        "            linha()\n",
        "            return\n",
        "\n",
        "        tabela = Table(title='Alunos Cadastrados')\n",
        "        tabela.add_column('Ordem',justify=\"center\")\n",
        "        tabela.add_column('ID',justify=\"center\")\n",
        "        tabela.add_column('Nome',justify=\"center\")\n",
        "        tabela.add_column('Email',justify=\"center\")\n",
        "\n",
        "        n = 0\n",
        "        for aluno in alunos.find():\n",
        "\n",
        "            n +=1\n",
        "            ordem = str(n)\n",
        "            id = str(aluno.get(\"_id\"))\n",
        "            nome = aluno.get(\"nome\", \"N/A\")\n",
        "            email = aluno.get(\"email\", \"N/A\")\n",
        "            tabela.add_row(ordem,id, nome, email)\n",
        "\n",
        "        console = Console()\n",
        "        console.print(tabela)\n",
        "\n",
        "    except PyMongoError as e:\n",
        "        print(f\"Erro ao listar Alunos: {e}\")"
      ]
    },
    {
      "cell_type": "code",
      "execution_count": null,
      "metadata": {
        "id": "V603Gp51STGM"
      },
      "outputs": [],
      "source": [
        "# Listar todos os cursos registrados\n",
        "def listar_cursos():\n",
        "    try:\n",
        "        if cursos.count_documents({}) == 0:\n",
        "            print(\"Nenhum curso cadastrado.\")\n",
        "            linha()\n",
        "            return\n",
        "\n",
        "        tabela = Table(title='Cursos Cadastrados')\n",
        "        tabela.add_column('Ordem',justify=\"center\")\n",
        "        tabela.add_column('ID',justify=\"center\")\n",
        "        tabela.add_column('Titulo',justify=\"center\")\n",
        "        tabela.add_column('Categoria',justify=\"center\")\n",
        "        tabela.add_column('Carga Horaria',justify=\"center\")\n",
        "\n",
        "        n = 0\n",
        "        for curso in cursos.find():\n",
        "\n",
        "            n +=1\n",
        "            ordem = str(n)\n",
        "            id = str(curso.get(\"_id\"))\n",
        "            titulo = curso.get(\"titulo\")\n",
        "            categoria = curso.get(\"categoria\")\n",
        "            carga_horaria = str(curso.get(\"carga_horaria\"))\n",
        "            tabela.add_row(ordem,id, titulo, categoria,carga_horaria)\n",
        "\n",
        "        console = Console()\n",
        "        console.print(tabela)\n",
        "\n",
        "    except PyMongoError as e:\n",
        "        print(f\"Erro ao listar Cursos: {e}\")"
      ]
    },
    {
      "cell_type": "code",
      "execution_count": null,
      "metadata": {
        "id": "pV13kyErPV4t"
      },
      "outputs": [],
      "source": [
        "# Listar todas as avaliaçoes por curso\n",
        "def ver_avaliacoes_por_curso():\n",
        "    cabecalho(\"Avaliações por Curso\")\n",
        "    titulo = input(\"Digite o título do curso: \").strip()\n",
        "    curso = cursos.find_one({\"titulo\": titulo})\n",
        "    linha()\n",
        "\n",
        "    if not curso:\n",
        "        print(\"Curso não encontrado.\")\n",
        "        linha()\n",
        "        return\n",
        "\n",
        "    avaliacao = avaliacoes.find({\"id_curso\": curso[\"_id\"]})\n",
        "\n",
        "    cabecalho(f\"Avaliações para o curso: {titulo}\")\n",
        "    encontrou = False\n",
        "    for av in avaliacao:\n",
        "        aluno = alunos.find_one({\"_id\": av[\"id_aluno\"]})\n",
        "        nome_aluno = aluno[\"nome\"] if aluno else \"Desconhecido\"\n",
        "        print(f\"⭐ {av['nota']} - {nome_aluno}\")\n",
        "        if av.get(\"comentario\"):\n",
        "            print(f\"  Comentário: {av['comentario']}\")\n",
        "        encontrou = True\n",
        "    linha()\n",
        "\n",
        "    if not encontrou:\n",
        "        print(\"Nenhuma avaliação para este curso.\")"
      ]
    },
    {
      "cell_type": "code",
      "execution_count": null,
      "metadata": {
        "id": "ybJHMQEiPY9s"
      },
      "outputs": [],
      "source": [
        "#Listar avaliações feitas por aluno\n",
        "def ver_avaliacoes_por_aluno():\n",
        "    cabecalho(\"Avaliações por Aluno\")\n",
        "    email = input(\"Digite o e-mail do aluno: \").strip()\n",
        "    aluno = alunos.find_one({\"email\": email})\n",
        "    linha()\n",
        "\n",
        "    if not aluno:\n",
        "        print(\"Aluno não encontrado.\")\n",
        "        return\n",
        "\n",
        "    avaliacao = avaliacoes.find({\"id_aluno\": aluno[\"_id\"]})\n",
        "\n",
        "    cabecalho(f\"Avaliações feitas por: {aluno['nome']}\")\n",
        "    encontrou = False\n",
        "    for av in avaliacao:\n",
        "        curso = cursos.find_one({\"_id\": av[\"id_curso\"]})\n",
        "        nome_curso = curso[\"titulo\"] if curso else \"Curso desconhecido\"\n",
        "        print(f\"📚 {nome_curso} - ⭐ {av['nota']}\")\n",
        "        if av.get(\"comentario\"):\n",
        "            print(f\"  Comentário: {av['comentario']}\")\n",
        "        encontrou = True\n",
        "    linha()\n",
        "\n",
        "    if not encontrou:\n",
        "        print(\"O aluno ainda não avaliou nenhum curso.\")\n",
        "        linha()\n",
        "        return"
      ]
    },
    {
      "cell_type": "markdown",
      "metadata": {
        "id": "xmvzN7CQevRI"
      },
      "source": [
        "##Updates"
      ]
    },
    {
      "cell_type": "code",
      "execution_count": null,
      "metadata": {
        "id": "qMNi35SRexAT"
      },
      "outputs": [],
      "source": [
        "# Atualizar Aluno:\n",
        "def atualizar_aluno():\n",
        "  while True:\n",
        "    try:\n",
        "      att = {}\n",
        "      cabecalho(\"Atualizar Aluno\")\n",
        "      email = input(\"Informe o Email do usuario que deseja alterar:\")\n",
        "      valida = validate_email(email) #Valida se o email é valido\n",
        "      novo_nome = input(\"Informe o novo nome do aluno:\")\n",
        "      novo_email = input(\"informe o novo email do aluno\")\n",
        "      valida_novo = validate_email(novo_email)\n",
        "\n",
        "      # Se houver dado para alterar\n",
        "      if novo_nome:\n",
        "        att[\"nome\"] = novo_nome\n",
        "      if novo_email:\n",
        "        att[\"email\"] = novo_email\n",
        "\n",
        "      # Se não houver atualização\n",
        "      if not att:\n",
        "        print(\"Nenhum dado de atualização fornecida\")\n",
        "        linha()\n",
        "        break\n",
        "\n",
        "      verifica = (\"Deseja atualizar o aluno ou voltar para o menu(sair): \").strip().lower()\n",
        "\n",
        "      if verifica == \"sair\":\n",
        "        break\n",
        "\n",
        "      resultado = alunos.update_one(\n",
        "        {\"email\": email},\n",
        "        {\"$set\": att}\n",
        "      )\n",
        "\n",
        "      if resultado.matched_count == 0:\n",
        "        print(\"Nenhum aluno Cadastrado com este Email!\")\n",
        "        linha()\n",
        "        continue\n",
        "      elif resultado.modified_count == 0:\n",
        "        print(\"Nenhuma modificação realizada.\")\n",
        "        linha()\n",
        "        break\n",
        "      else:\n",
        "        print(\"Aluno atualizado com sucesso.\")\n",
        "        linha()\n",
        "        break\n",
        "\n",
        "    except DuplicateKeyError as e:\n",
        "      print(f\"Email '{novo_email}' já está cadastrado!\")\n",
        "\n",
        "    except PyMongoError as e:\n",
        "      print(f\"Erro ao atualizar Aluno: {e}\")\n",
        "\n",
        "    except InvalidId as e:\n",
        "      print(\"ID Inválido:\", id)\n",
        "\n",
        "    except EmailNotValidError as e:\n",
        "      print(\"E-mail inválido!\")"
      ]
    },
    {
      "cell_type": "code",
      "execution_count": null,
      "metadata": {
        "id": "fgcuzZsGfBd4"
      },
      "outputs": [],
      "source": [
        "def atualizar_curso():\n",
        "    while True:\n",
        "        try:\n",
        "            cabecalho(\"Atualizar Curso\")\n",
        "            att = {}\n",
        "            titulo = input(\"Insira o Título do curso que deseja alterar (ou espaço para finalizar): \").strip()\n",
        "\n",
        "            if titulo.lower() == '':\n",
        "                print(\"Finalizando...\")\n",
        "                break  # Sai do loop se o usuário digitar vazio\n",
        "\n",
        "            novo_titulo = input(\"Insira o novo título do curso (ou espaço para manter o mesmo): \").strip()\n",
        "            nova_categoria = input(\"Insira a nova categoria do curso (ou espaço para manter o mesmo): \").strip()\n",
        "\n",
        "            nova_carga_horaria = None\n",
        "            while True:\n",
        "                carga_horaria_input = input(\"Insira a nova carga-horária do curso (deixe em branco para manter a atual): \").strip()\n",
        "                if not carga_horaria_input:\n",
        "                    break  # Não atualizar a carga horária\n",
        "                try:\n",
        "                    nova_carga_horaria = int(carga_horaria_input)\n",
        "                    if nova_carga_horaria <= 0:\n",
        "                        print(\"A carga horária deve ser um número positivo. Tente novamente.\")\n",
        "                    else:\n",
        "                        break\n",
        "                except ValueError:\n",
        "                    print(\"Carga horária inválida. Por favor, insira um número inteiro.\")\n",
        "\n",
        "            if novo_titulo:\n",
        "                att[\"titulo\"] = novo_titulo\n",
        "            if nova_categoria:\n",
        "                att[\"categoria\"] = nova_categoria\n",
        "            if nova_carga_horaria is not None:\n",
        "                att[\"carga_horaria\"] = nova_carga_horaria\n",
        "\n",
        "            if not att:\n",
        "                print(\"Nenhum dado de atualização fornecido para o curso.\")\n",
        "                break\n",
        "\n",
        "            resultado = cursos.update_one(\n",
        "                {\"titulo\": titulo},\n",
        "                {\"$set\": att}\n",
        "            )\n",
        "\n",
        "            if resultado.matched_count == 0:\n",
        "                print(f\"Não foi encontrado nenhum curso com o título '{titulo}'.\")\n",
        "                linha()\n",
        "            elif resultado.modified_count == 0:\n",
        "                print(\"Nenhuma modificação realizada.\")\n",
        "                linha()\n",
        "            else:\n",
        "                print(\"Curso atualizado com sucesso!\")\n",
        "                linha()\n",
        "\n",
        "        except DuplicateKeyError:\n",
        "            print(f\"Erro: O título '{novo_titulo}' já está cadastrado! Por favor, tente outro.\")\n",
        "        except PyMongoError as e:\n",
        "            print(f\"Erro ao atualizar Curso: {e}\")\n",
        "        except Exception as e:\n",
        "            print(f\"Ocorreu um erro: {e}\")"
      ]
    },
    {
      "cell_type": "markdown",
      "metadata": {
        "id": "Q8ytmkm_wSSH"
      },
      "source": [
        "## Deletes"
      ]
    },
    {
      "cell_type": "code",
      "execution_count": null,
      "metadata": {
        "id": "Y-E7xfEowRas"
      },
      "outputs": [],
      "source": [
        "def deletar_aluno():\n",
        "  while True:\n",
        "    try:\n",
        "      cabecalho(\"Deletar Aluno\")\n",
        "      opcao = input(\"\"\"\n",
        "      1. Deletar um Aluno\n",
        "      2. Deletar todos os Alunos\n",
        "      \"\"\").strip()\n",
        "\n",
        "      if opcao == \"1\":\n",
        "        email = input(\"Digite o e-mail do aluno a ser deletado: \").strip()\n",
        "\n",
        "        aluno = alunos.find_one({\"email\": email})\n",
        "\n",
        "        if not aluno:\n",
        "          print(\"Aluno não encontrado.\")\n",
        "          linha()\n",
        "          continue\n",
        "\n",
        "        confirmacao = input(f\"Tem certeza que deseja deletar o aluno '{aluno['nome']}' com e-mail '{email}'? (s/n): \").strip().lower()\n",
        "\n",
        "        if confirmacao != \"s\":\n",
        "          print(\"Operação cancelada.\")\n",
        "          linha()\n",
        "          break\n",
        "\n",
        "        alunos.delete_one({\"email\": email})\n",
        "        print(\"Aluno deletado com sucesso.\")\n",
        "        linha()\n",
        "\n",
        "      elif opcao == \"2\":\n",
        "        confirmacao = input(\"Tem certeza que deseja deletar TODOS os alunos? (s/n): \").strip().lower()\n",
        "        if confirmacao != \"s\":\n",
        "          print(\"Operação cancelada.\")\n",
        "          linha()\n",
        "          break\n",
        "\n",
        "        alunos.delete_many({})\n",
        "        print(\"Todos os alunos foram deletados com sucesso.\")\n",
        "        linha()\n",
        "\n",
        "      else:\n",
        "        print(\"Opção inválida.\")\n",
        "        linha()\n",
        "        pausa()\n",
        "        break\n",
        "\n",
        "    except Exception as e:\n",
        "      print(f\"Erro ao deletar aluno(s): {e}\")"
      ]
    },
    {
      "cell_type": "code",
      "execution_count": null,
      "metadata": {
        "id": "Rn8JXUfAwcRZ"
      },
      "outputs": [],
      "source": [
        "def deletar_curso():\n",
        "  while True:\n",
        "    try:\n",
        "      cabecalho(\"Deletar Curso\")\n",
        "      opcao = input(\"\"\"\n",
        "      1. Deletar um Curso\n",
        "      2. Deletar todos os Cursos\n",
        "      \"\"\").strip()\n",
        "\n",
        "      if opcao == \"1\":\n",
        "        titulo = input(\"Digite o título do curso a ser deletado: \").strip()\n",
        "\n",
        "        curso = cursos.find_one({\"titulo\": titulo})\n",
        "\n",
        "        if not curso:\n",
        "          print(\"Curso não encontrado.\")\n",
        "          linha()\n",
        "          continue\n",
        "\n",
        "        confirmacao = input(f\"Tem certeza que deseja deletar o curso '{titulo}'? (s/n): \").strip().lower()\n",
        "\n",
        "        if confirmacao != \"s\":\n",
        "          print(\"Operação cancelada.\")\n",
        "          linha()\n",
        "          break\n",
        "\n",
        "        cursos.delete_one({\"_id\": curso[\"_id\"]})\n",
        "        avaliacoes.delete_many({\"id_curso\": curso[\"_id\"]})\n",
        "        alunos.update_many({\"cursos\": curso[\"_id\"]}, {\"$pull\": {\"cursos\": curso[\"_id\"]}})\n",
        "\n",
        "        print(\"Curso e avaliações relacionadas deletados com sucesso.\")\n",
        "        linha()\n",
        "        break\n",
        "\n",
        "      elif opcao == \"2\":\n",
        "        confirmacao = input(\"Tem certeza que deseja deletar TODOS os cursos e avaliações? (s/n): \").strip().lower()\n",
        "        if confirmacao != \"s\":\n",
        "          print(\"Operação cancelada.\")\n",
        "          linha()\n",
        "          return\n",
        "\n",
        "        cursos.delete_many({})\n",
        "        avaliacoes.delete_many({})\n",
        "        alunos.update_many({}, {\"$set\": {\"cursos\": []}})\n",
        "\n",
        "        print(\"Todos os cursos, avaliações e vínculos com alunos foram deletados.\")\n",
        "        linha()\n",
        "        break\n",
        "\n",
        "      else:\n",
        "        print(\"Opção inválida.\")\n",
        "        linha()\n",
        "        break\n",
        "    except Exception as e:\n",
        "      print(f\"Erro ao deletar curso(s): {e}\")"
      ]
    },
    {
      "cell_type": "markdown",
      "metadata": {
        "id": "2_6LWfuLaPs4"
      },
      "source": [
        "##Media"
      ]
    },
    {
      "cell_type": "code",
      "execution_count": null,
      "metadata": {
        "id": "IlxTwDmVahTa"
      },
      "outputs": [],
      "source": [
        "def medias_cursos():\n",
        "  media_curso = {}\n",
        "\n",
        "  for curso in cursos.find():\n",
        "    id_curso = curso[\"_id\"]\n",
        "    titulo_curso = curso[\"titulo\"]\n",
        "\n",
        "    avaliacoes_curso = list(avaliacoes.find({\"id_curso\": id_curso}))\n",
        "\n",
        "    if not avaliacoes_curso:\n",
        "      continue\n",
        "\n",
        "    soma = sum(av[\"nota\"] for av in avaliacoes_curso)\n",
        "    media = soma / len(avaliacoes_curso)\n",
        "\n",
        "    media_curso[titulo_curso] = media\n",
        "\n",
        "  return media_curso"
      ]
    },
    {
      "cell_type": "markdown",
      "metadata": {
        "id": "mns8poA-apMX"
      },
      "source": [
        "#Desafios Opcionais"
      ]
    },
    {
      "cell_type": "code",
      "execution_count": null,
      "metadata": {
        "id": "twoij4QRYDqr"
      },
      "outputs": [],
      "source": [
        "# Primeiro desafio: TOP 3 CURSOS POR CATEGORIA:\n",
        "\n",
        "def top_3_por_categoria(): # instanciação da função\n",
        "\n",
        "    categorias = cursos.distinct(\"categoria\") # retorna uma lista de todos os registros unicos de \"categoria\" na coleção de cursos,\n",
        "    #Garante]indo que o TOP 3 seja calculado para cada categoria existente.\n",
        "\n",
        "    for categoria in categorias: #loop de cada categoria unica\n",
        "        ids_cursos = [c[\"_id\"] for c in cursos.find({\"categoria\": categoria})] #Busca todos os cursos da ca\n",
        "\n",
        "        pipeline = [\n",
        "            {\"$match\": {\"id_curso\": {\"$in\": ids_cursos}}},\n",
        "            {\"$group\": {\n",
        "                \"_id\": \"$id_curso\",\n",
        "                \"media\": {\"$avg\": \"$nota\"},\n",
        "                \"total\": {\"$sum\": 1}\n",
        "            }},\n",
        "            {\"$sort\": {\"media\": -1, \"total\": -1}},\n",
        "            {\"$limit\": 3}\n",
        "        ]\n",
        "\n",
        "        top_cursos = list(avaliacoes.aggregate(pipeline))\n",
        "\n",
        "        cabecalho(f\"Top 3 da categoria: {categoria}\")\n",
        "        for c in top_cursos:\n",
        "            curso = cursos.find_one({\"_id\": c[\"_id\"]})\n",
        "            print(f\" - {curso['titulo']} | Média: {c['media']:.2f} ({c['total']} avaliações)\")\n",
        "        linha()"
      ]
    },
    {
      "cell_type": "code",
      "execution_count": null,
      "metadata": {
        "id": "Jt6uUtqGbFJC"
      },
      "outputs": [],
      "source": [
        "# Segundo desafio: RANKING USANDO A BIBLIOTECA RICH\n",
        "def exibir_ranking(medias_cursos):\n",
        "\n",
        "  console = Console()  # Cria instância da classe Console da biblioteca rich. instância usada para imprimir conteúdo formatado no terminal\n",
        "  table = Table(title=\"Ranking de Cursos\", box=box.ROUNDED, style=\"cyan\") #criação da tabela com titulo e estilização\n",
        "\n",
        "  # Criação de 3 colunas na tabela com Estilização\n",
        "  table.add_column(\"Posição\", justify=\"center\", style=\"bold yellow\")\n",
        "  table.add_column(\"Curso\", style=\"bold white\")\n",
        "  table.add_column(\"Média\", justify=\"center\", style=\"green\")\n",
        "\n",
        "  # Ordena os cursos com base em suas médias.\n",
        "  ranking = sorted(medias_cursos.items(), key=lambda x: x[1], reverse=True)\n",
        "\n",
        "  for idx, (curso, media) in enumerate(ranking, start=1):\n",
        "    if idx == 1:\n",
        "      curso = Text(curso, style=\"bold gold1\")\n",
        "      media = Text(str(media), style=\"bold gold1\")\n",
        "    elif idx == 2:\n",
        "      curso = Text(curso, style=\"bold grey82\")\n",
        "      media = Text(str(media), style=\"bold grey82\")\n",
        "    elif idx == 3:\n",
        "      curso = Text(curso, style=\"bold dark_orange3\")\n",
        "      media = Text(str(media), style=\"bold dark_orange3\")\n",
        "    elif idx <= 10:\n",
        "      curso = Text(curso, style=\"bold white\")\n",
        "      media = Text(str(media), style=\"bold white\")\n",
        "    else:\n",
        "      curso = Text(curso, style=\"dim\")\n",
        "      media = Text(str(media), style=\"dim\")\n",
        "\n",
        "    table.add_row(f\"{idx}º\", curso, media)\n",
        "\n",
        "  #Imprime a tabela no terminal usando a variavel criada no inicio da função\n",
        "  console.print(table)\n"
      ]
    },
    {
      "cell_type": "code",
      "execution_count": null,
      "metadata": {
        "id": "jlnTlHSCP3A1"
      },
      "outputs": [],
      "source": [
        "# Terceiro desafio: CÁLCULO DA MÉDIA GERAL DAS NOTAS ATRIBUIDAS POR CADA ALUNO\n",
        "\n",
        "def media_geral():\n",
        "  try:\n",
        "    cabecalho(\"Médias de Cada Aluno\")\n",
        "\n",
        "    for aluno in alunos.find():\n",
        "      id_aluno = aluno[\"_id\"]\n",
        "      nome_aluno = aluno.get(\"nome\", \"N/A\")\n",
        "\n",
        "      notas = [av[\"nota\"] for av in avaliacoes.find({\"id_aluno\": id_aluno})]\n",
        "\n",
        "      if notas:\n",
        "        media = sum(notas) / len(notas)\n",
        "        print(f\"Aluno {nome_aluno}\\n Média: {media:.2f}\")\n",
        "      else:\n",
        "        print(f\"{nome_aluno} ainda não realizou nenhuma avaliação!\")\n",
        "    linha()\n",
        "\n",
        "  except Exception as erro:\n",
        "    print(f\"Erro: {erro}\")"
      ]
    },
    {
      "cell_type": "code",
      "source": [
        "# Quarto desafio: PESQUISA DE CURSOS POR PALAVRAS-CHAVE NO TITULO OU CATEGORIA\n",
        "def filtro_curso():\n",
        "    console = Console()\n",
        "    try:\n",
        "        while True:\n",
        "           cabecalho(\"Filtrar Curso\")\n",
        "           titulo = input(\"Insira o Titulo do Curso que deseja buscar(Enter para Ignorar)\").strip()\n",
        "           categoria = input(\"Insira a Categoria do curso que deseja buscar(Enter para Ignorar)\").strip()\n",
        "           linha()\n",
        "\n",
        "           if not titulo and not categoria:\n",
        "                print(\"Nenhum critério fornecido.\")\n",
        "                break\n",
        "\n",
        "           filtrar_cursos = {}\n",
        "           if titulo:\n",
        "               filtrar_cursos[\"titulo\"] = {\"$regex\": titulo, \"$options\": \"i\"}  #busca parcial do titulo com options\n",
        "\n",
        "           if categoria:\n",
        "               filtrar_cursos[\"categoria\"] = {\"$regex\": categoria, \"$options\": \"i\"} #busca parcial da categoria com options\n",
        "\n",
        "           if cursos.count_documents(filtrar_cursos) == 0: #valida se existem cursos com o criterio de titulo e categoria inserido pelo usuario\n",
        "               clear_output(wait=False)\n",
        "               sleep(1)\n",
        "               print(\"Nenhum curso encontrado com estes criterio, insira novamente.\")\n",
        "               continue\n",
        "\n",
        "\n",
        "           if titulo:\n",
        "               table = Table(title=f\"Cursos com o titulo: {titulo}\")\n",
        "\n",
        "           if categoria:\n",
        "               table = Table(title=f\"Cursos com a categoria: {categoria}\")\n",
        "\n",
        "           table.add_column(\"ID\")\n",
        "           table.add_column(\"Titulo\")\n",
        "           table.add_column(\"Categoria\")\n",
        "\n",
        "           for curso in cursos.find(filtrar_cursos):\n",
        "               id = curso.get(\"_id\")\n",
        "               nome = curso.get(\"titulo\")\n",
        "               categoria = curso.get(\"categoria\")\n",
        "               table.add_row(str(id), nome, categoria)\n",
        "\n",
        "           console.print(table)\n",
        "           break\n",
        "\n",
        "    except PyMongoError as e:\n",
        "     print(f\"Erro ao buscar cursos: {e}\")"
      ],
      "metadata": {
        "id": "IfokanN6Lnkt"
      },
      "execution_count": null,
      "outputs": []
    },
    {
      "cell_type": "code",
      "execution_count": null,
      "metadata": {
        "id": "upQ0vY11c_io"
      },
      "outputs": [],
      "source": [
        "#GRAFICO DE DISTRIBUIÇÃO DE NOTAS DE CADA CURSO NO TERMINAL USANDO A LIB RICH\n",
        "\n",
        "def mostrar_distribuicao_notas():\n",
        "    console = Console()\n",
        "    distribuicao = defaultdict(list)\n",
        "\n",
        "    for avaliacao in avaliacoes.find():\n",
        "        curso = cursos.find_one({\"_id\": avaliacao[\"id_curso\"]})\n",
        "        if curso:\n",
        "            distribuicao[curso[\"titulo\"]].append(avaliacao[\"nota\"])\n",
        "\n",
        "    for titulo, notas in distribuicao.items():\n",
        "        console.rule(f\"[bold green]Distribuição de Notas - {titulo}\")\n",
        "        notas_count = defaultdict(int)\n",
        "        for nota in notas:\n",
        "            notas_count[nota] += 1\n",
        "        for nota in sorted(notas_count):\n",
        "            barra = \"█\" * notas_count[nota]\n",
        "            console.print(f\"Nota {nota}: {barra} ({notas_count[nota]})\")"
      ]
    },
    {
      "cell_type": "code",
      "execution_count": null,
      "metadata": {
        "id": "qig8uZ4bYw2c"
      },
      "outputs": [],
      "source": [
        "# - Melhorias:\n",
        "#ver_avaliacoes_por_aluno() - talvez coluna\n",
        "#ver_avaliacoes_por_curso() - talvez coluna\n",
        "#media_geral() - talvez coluna\n",
        "\n",
        "# - Ajustar:\n",
        "#exibir_ranking() - esta dando erro por conta do parametro\n",
        "\n",
        "# - Pendentes:\n",
        "#Metodos de Excluir - aluno, curso, avaliação\n",
        "#Metodos de atualizar - Aluno, curso\n",
        "\n",
        "# talvez criar categorias padrões\n"
      ]
    },
    {
      "cell_type": "markdown",
      "metadata": {
        "id": "iguQSCqWxZi0"
      },
      "source": [
        "# Menu"
      ]
    },
    {
      "cell_type": "code",
      "execution_count": null,
      "metadata": {
        "id": "RfE6AsPuxY-T"
      },
      "outputs": [],
      "source": [
        "def Iniciando_o_sistema():\n",
        "    try:\n",
        "      while True:\n",
        "        limpar_tela()\n",
        "\n",
        "        cabecalho(\"MENU PRINCIPAL\")\n",
        "        print(\"1. Cadastros\")\n",
        "        print(\"2. Avaliar Curso\")\n",
        "        print(\"3. Ver avaliações\")\n",
        "        print(\"4. Opções de listar\")\n",
        "        print(\"5. Atualizações\")\n",
        "        print(\"6. Deletar\")\n",
        "        print(\"0. Sair\")\n",
        "        linha()\n",
        "        opcao = input(\"Escolha: \")\n",
        "\n",
        "        if opcao == \"1\": # Cadastrar\n",
        "          limpar_tela()\n",
        "          cabecalho()\n",
        "          print(\"1. Cadastrar curso\")\n",
        "          print(\"2. Cadastrar aluno\")\n",
        "          linha()\n",
        "          sub_opcao = input(\"Escolha: \").strip()\n",
        "\n",
        "          if sub_opcao == \"1\":\n",
        "            limpar_tela()\n",
        "\n",
        "            try:\n",
        "                criar_curso()\n",
        "                pausa()\n",
        "            except ValueError:\n",
        "                print(\"Erro: carga horária deve ser um número inteiro.\")\n",
        "\n",
        "          elif sub_opcao == \"2\":\n",
        "            limpar_tela()\n",
        "\n",
        "            criar_aluno()\n",
        "            pausa()\n",
        "\n",
        "          else:\n",
        "            print(\"Opção inválida.\")\n",
        "\n",
        "        elif opcao == \"2\": # Avaliar\n",
        "          limpar_tela()\n",
        "          avaliar_curso()\n",
        "\n",
        "          linha()\n",
        "          pausa()\n",
        "\n",
        "        elif opcao == \"3\": # Ver avaliações\n",
        "          limpar_tela()\n",
        "\n",
        "          cabecalho()\n",
        "          print(\"1. Ver avaliações por curso\")\n",
        "          print(\"2. Ver avaliações por aluno\")\n",
        "          print(\"3. Ver Ranking\")\n",
        "          print(\"4. Ver Distribuição de Notas\")\n",
        "          linha()\n",
        "          sub_opcao = input(\"Escolha: \").strip()\n",
        "\n",
        "          if sub_opcao == \"1\":\n",
        "            limpar_tela()\n",
        "            ver_avaliacoes_por_curso()\n",
        "            pausa()\n",
        "\n",
        "          elif sub_opcao == \"2\":\n",
        "            limpar_tela()\n",
        "            ver_avaliacoes_por_aluno()\n",
        "            pausa()\n",
        "\n",
        "          elif sub_opcao == \"3\":\n",
        "            limpar_tela()\n",
        "            exibir_ranking(medias_cursos())  # Ranking\n",
        "            pausa()\n",
        "\n",
        "          elif sub_opcao == \"4\":\n",
        "            limpar_tela()\n",
        "            mostrar_distribuicao_notas()\n",
        "            pausa()\n",
        "\n",
        "          else:\n",
        "            print(\"Opção inválida.\")\n",
        "            pausa()\n",
        "\n",
        "        elif opcao == \"4\": # Opções de listar\n",
        "            limpar_tela()\n",
        "\n",
        "            cabecalho()\n",
        "            print(\"1. Listar todos os alunos\")\n",
        "            print(\"2. Listar Todos os cursos\")\n",
        "            print(\"3. Filtrar cursos\")\n",
        "\n",
        "            linha()\n",
        "            sub_opcao = input(\"Escolha: \").strip()\n",
        "\n",
        "            if sub_opcao == \"1\":\n",
        "                limpar_tela()\n",
        "                listar_alunos()\n",
        "                pausa()\n",
        "\n",
        "            elif sub_opcao == \"2\":\n",
        "              limpar_tela()\n",
        "              listar_cursos()\n",
        "              pausa()\n",
        "\n",
        "            elif sub_opcao == \"3\":\n",
        "              limpar_tela()\n",
        "              filtro_curso()\n",
        "              pausa()\n",
        "            else:\n",
        "                print(\"Opção inválida.\")\n",
        "        elif opcao == \"5\": # atualizações\n",
        "            limpar_tela()\n",
        "\n",
        "            cabecalho()\n",
        "            print(\"1. Atualizar Aluno\")\n",
        "            print(\"2. Atualizar Curso\")\n",
        "            linha()\n",
        "            sub_opcao = input(\"Escolha: \").strip()\n",
        "\n",
        "            if sub_opcao == \"1\":\n",
        "                atualizar_aluno()\n",
        "                pausa()\n",
        "            elif sub_opcao == \"2\":\n",
        "                atualizar_curso()\n",
        "                pausa()\n",
        "            else:\n",
        "              print(\"Opção invalida..\")\n",
        "              pausa()\n",
        "\n",
        "        elif opcao == \"6\": # Deletar\n",
        "            limpar_tela()\n",
        "            cabecalho()\n",
        "            print(\"1. Deletar Aluno\")\n",
        "            print(\"2. Deletar Curso\")\n",
        "            linha()\n",
        "            sub_opcao = input(\"Escolha: \").strip()\n",
        "\n",
        "            if sub_opcao == \"1\":\n",
        "                deletar_aluno()\n",
        "                pausa()\n",
        "            elif sub_opcao == \"2\":\n",
        "                deletar_curso()\n",
        "                pausa()\n",
        "            else:\n",
        "                print(\"Opção inválida.\")\n",
        "\n",
        "        elif opcao == \"0\":\n",
        "            limpar_tela()\n",
        "            print(\"Saindo do sistema. Até logo!\")\n",
        "            break\n",
        "\n",
        "        else:\n",
        "            print(\"Opção inválida. Tente novamente.\")\n",
        "    except KeyboardInterrupt:\n",
        "      print(\"Saindo do sistema. Volte Sempre!\")"
      ]
    },
    {
      "cell_type": "markdown",
      "metadata": {
        "id": "Fjl0S5BLxioj"
      },
      "source": [
        "#Inciador"
      ]
    },
    {
      "cell_type": "code",
      "execution_count": null,
      "metadata": {
        "id": "17Z_MEy9asZ6",
        "colab": {
          "base_uri": "https://localhost:8080/"
        },
        "outputId": "74af9bbf-313a-4438-ca8a-b1502670ee50"
      },
      "outputs": [
        {
          "output_type": "stream",
          "name": "stdout",
          "text": [
            "==========================================================================================\n",
            "                                       Criar Aluno                                        \n",
            "==========================================================================================\n",
            "Digite o nome do Aluno: Jose Almir\n",
            "\n",
            "Digite um email válido: jose.almir@soulcode.com\n",
            "==========================================================================================\n",
            "Aluno Cadastrado!\n",
            "==========================================================================================\n"
          ]
        }
      ],
      "source": [
        "Iniciando_o_sistema()"
      ]
    }
  ],
  "metadata": {
    "colab": {
      "collapsed_sections": [
        "Et7S05-hQZ_1",
        "ruMiyuQZQiL6",
        "NPC_nxc5tOil",
        "29R_yNM_aI_Z",
        "2_6LWfuLaPs4",
        "mns8poA-apMX",
        "iguQSCqWxZi0"
      ],
      "provenance": [],
      "include_colab_link": true
    },
    "kernelspec": {
      "display_name": "Python 3",
      "name": "python3"
    },
    "language_info": {
      "name": "python"
    }
  },
  "nbformat": 4,
  "nbformat_minor": 0
}