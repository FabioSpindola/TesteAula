{
  "nbformat": 4,
  "nbformat_minor": 0,
  "metadata": {
    "colab": {
      "provenance": [],
      "authorship_tag": "ABX9TyMUbibBl+s4IJeLSMkKNOcl",
      "include_colab_link": true
    },
    "kernelspec": {
      "name": "python3",
      "display_name": "Python 3"
    },
    "language_info": {
      "name": "python"
    }
  },
  "cells": [
    {
      "cell_type": "markdown",
      "metadata": {
        "id": "view-in-github",
        "colab_type": "text"
      },
      "source": [
        "<a href=\"https://colab.research.google.com/github/FabioSpindola/TesteAula/blob/main/Sistema_de_restaurante_IA.ipynb\" target=\"_parent\"><img src=\"https://colab.research.google.com/assets/colab-badge.svg\" alt=\"Open In Colab\"/></a>"
      ]
    },
    {
      "cell_type": "markdown",
      "source": [
        "Estudos de pedido de  pizza"
      ],
      "metadata": {
        "id": "gBTYbDFlr_qa"
      }
    },
    {
      "cell_type": "code",
      "source": [
        "!pip install scikit-fuzzy"
      ],
      "metadata": {
        "id": "_s2xi362kvI8",
        "colab": {
          "base_uri": "https://localhost:8080/"
        },
        "outputId": "e538d7a5-48f6-4479-96ff-4bf59072f0a3"
      },
      "execution_count": null,
      "outputs": [
        {
          "output_type": "stream",
          "name": "stdout",
          "text": [
            "Requirement already satisfied: scikit-fuzzy in /usr/local/lib/python3.11/dist-packages (0.5.0)\n"
          ]
        }
      ]
    },
    {
      "cell_type": "code",
      "source": [
        "import numpy as np\n",
        "import skfuzzy as fuzz\n",
        "from skfuzzy import control as ctrl"
      ],
      "metadata": {
        "id": "riLJDot_k3Gp"
      },
      "execution_count": null,
      "outputs": []
    },
    {
      "cell_type": "code",
      "source": [
        "np.arange(0, 11, 1)\n",
        "qualidade = ctrl.Antecedent(np.arange(0, 11, 1), 'qualidade')\n",
        "servico = ctrl.Antecedent(np.arange(0, 11, 1), 'servico')"
      ],
      "metadata": {
        "id": "6PktqkIwwVOW"
      },
      "execution_count": null,
      "outputs": []
    },
    {
      "cell_type": "code",
      "source": [
        "qualidade\n",
        "qualidade.universe"
      ],
      "metadata": {
        "id": "hb7iMJD_wYyG"
      },
      "execution_count": null,
      "outputs": []
    },
    {
      "cell_type": "code",
      "source": [
        "gorjeta = ctrl.Consequent(np.arange(0, 16, 1), 'gorjeta')\n",
        "gorjeta.universe"
      ],
      "metadata": {
        "id": "Ea_dQeowwhAq"
      },
      "execution_count": null,
      "outputs": []
    },
    {
      "cell_type": "code",
      "source": [
        "qualidade.automf(number=3, names=['ruim', 'boa', 'saborosa'])\n",
        "servico.automf(number=3, names=['ruim', 'aceitável', 'ótimo'])\n",
        "qualidade.view()\n",
        "qualidade['saborosa'].view()\n",
        "servico.view()\n",
        "gorjeta.universe"
      ],
      "metadata": {
        "id": "N8ET74WgySGM"
      },
      "execution_count": null,
      "outputs": []
    },
    {
      "cell_type": "code",
      "source": [
        "gorjeta['zero'] = fuzz.trimf(gorjeta.universe, [0, 0, 5])\n",
        "gorjeta['baixa'] = fuzz.trimf(gorjeta.universe, [0, 0, 7])\n",
        "gorjeta['media'] = fuzz.trimf(gorjeta.universe, [5, 10, 13])\n",
        "gorjeta['alta'] = fuzz.trimf(gorjeta.universe, [12, 15, 15])\n",
        "gorjeta.view()"
      ],
      "metadata": {
        "id": "ZbhIv9m1zdFV"
      },
      "execution_count": null,
      "outputs": []
    },
    {
      "cell_type": "markdown",
      "source": [
        "Regras"
      ],
      "metadata": {
        "id": "l-e4KiG90ww8"
      }
    },
    {
      "cell_type": "code",
      "source": [
        "regra1 = ctrl.Rule(qualidade['ruim'] | servico['ruim'], gorjeta['baixa'])\n",
        "regra2 = ctrl.Rule(qualidade['boa'], gorjeta['media'])\n",
        "regra3 = ctrl.Rule(qualidade['saborosa'], gorjeta['alta'])\n",
        "regra4 = ctrl.Rule(servico['ruim'], gorjeta['baixa'])\n",
        "regra5 = ctrl.Rule(servico['aceitável'], gorjeta['media'])\n",
        "regra6 = ctrl.Rule(servico['ótimo'], gorjeta['alta'])\n",
        "regra7 = ctrl.Rule(servico['ótimo'] | qualidade['saborosa'], gorjeta['alta'])\n",
        "#regra8 = ctrl.Rule(servico['ótimo'] | qualidade['saborosa'], gorjeta['alta'])\n",
        "\n",
        "sistema_controle = ctrl.ControlSystem([regra1, regra2, regra3,regra4,regra5,regra6,regra7])\n",
        "sistema = ctrl.ControlSystemSimulation(sistema_controle)\n",
        "\n"
      ],
      "metadata": {
        "id": "vPk4w9nP00D6"
      },
      "execution_count": null,
      "outputs": []
    },
    {
      "cell_type": "markdown",
      "source": [
        "####Chat Boot"
      ],
      "metadata": {
        "id": "1LyoPcUQKZ93"
      }
    },
    {
      "cell_type": "code",
      "execution_count": null,
      "metadata": {
        "colab": {
          "base_uri": "https://localhost:8080/"
        },
        "id": "j2KnHSkgr_Oy",
        "outputId": "c9b42dab-8328-4c86-e712-172ee08b3372"
      },
      "outputs": [
        {
          "output_type": "stream",
          "name": "stdout",
          "text": [
            "Olá! Bem vindo(a)! Qual seu nome? fao\n",
            "------------------------------------------------------------\n",
            "frango com catupiry: R$ 50.00\n",
            "------------------------------\n",
            "4 queijo: R$ 50.00\n",
            "------------------------------\n",
            "atum: R$ 50.00\n",
            "------------------------------\n",
            "calabresa: R$ 53.00\n",
            "------------------------------\n",
            "mussarela: R$ 53.00\n",
            "------------------------------\n",
            "toscana: R$ 53.00\n",
            "------------------------------\n",
            "rucula: R$ 53.00\n",
            "------------------------------\n",
            "brigadeiro: R$ 60.00\n",
            "------------------------------\n",
            "banana com nutela: R$ 60.00\n",
            "------------------------------\n",
            "bauru: R$ 39.00\n",
            "------------------------------\n",
            "atum II: R$ 55.00\n",
            "------------------------------\n",
            "Qual seu pedido? (separe os pedidos por vigula)atum ii\n",
            "------------------------------------------------------------\n",
            "Para fechar sua Conta vamos participar da nossa pesquisa de satisfação! \n",
            "------------------------------\n",
            "Qualidade da pizza? 'ruim', 'boa', 'saborosa' boa\n",
            "------------------------------------------------------------\n",
            "Qual serviço? 'ruim', 'aceitável', 'ótimo' otimo\n",
            "------------------------------------------------------------\n",
            "9.33%\n",
            "Pedido 'atum ii' não encontra no cardápio\n",
            "Nenhum pedido foi registrado.\n",
            "\n",
            "Resumo do Pedido:\n",
            "Cliente: fao \n",
            "Mesa 10\n",
            "seu pedido \n",
            "Total a pagar: R$ 0.00 (Debito)\n",
            "Gorjeta: 9.33'%'\n",
            "Obrigado pela preferência VOLTE SEMPRE! 🍕\n"
          ]
        }
      ],
      "source": [
        "nome= input(\"Olá! Bem vindo(a)! Qual seu nome? \")\n",
        "mesa= 10\n",
        "print(\"-\"*60)\n",
        "for pizza, preco in precos_pizzas.items():\n",
        "    print(f\"{pizza}: R$ {preco:.2f}\")\n",
        "    print(\"-\"*30)\n",
        "Pedido= input(\"Qual seu pedido? (separe os pedidos por vigula)\" ).lower().split(\",\")\n",
        "print(\"-\"*60)\n",
        "print(\"Para fechar sua Conta vamos participar da nossa pesquisa de satisfação! \")\n",
        "print(\"-\"*30)\n",
        "\n",
        "#aqui poderia entrar um if else  se sim caixa no calculo se não taxa 14%\n",
        "\n",
        "nqualidade= input(\"Qualidade da pizza? 'ruim', 'boa', 'saborosa' \").lower()\n",
        "print(\"-\"*60)\n",
        "nservico= input(\"Qual serviço? 'ruim', 'aceitável', 'ótimo' \").lower()\n",
        "print(\"-\"*60)\n",
        "\n",
        "sistema.input['qualidade'] = nqualidade\n",
        "sistema.input['servico'] = nservico\n",
        "sistema.compute()\n",
        "print(f\"{sistema.output['gorjeta']:.2f}\"'%')\n",
        "porcentagem_gorjeta = sistema.output['gorjeta'] / 100\n",
        "#print(f\"{sistema.output['gorjeta']:.2f}\")\n",
        "\n",
        "precos_pizzas = {\n",
        "    \"frango com catupiry\": 50,\n",
        "    \"4 queijo\": 50,\n",
        "    \"atum\": 50,\n",
        "    \"calabresa\": 53,\n",
        "    \"mussarela\": 53,\n",
        "    \"toscana\": 53,\n",
        "    \"rucula\": 53,\n",
        "    \"brigadeiro\": 60,\n",
        "    \"banana com nutela\": 60,\n",
        "    \"bauru\": 39,\n",
        "    \"atum II\": 55\n",
        "}\n",
        "\n",
        "\n",
        "valor_total = 0\n",
        "pedidos_validos = []\n",
        "\n",
        "for pedido in Pedido:\n",
        "    pedido = pedido.strip()\n",
        "    if pedido in precos_pizzas:\n",
        "        valor_total += precos_pizzas[pedido]\n",
        "        pedidos_validos.append(pedido)\n",
        "    else:\n",
        "      print(f\"Pedido '{pedido}' não encontra no cardápio\")\n",
        "\n",
        "if not pedidos_validos:\n",
        "  print(\"Nenhum pedido foi registrado.\")\n",
        "\n",
        "else:\n",
        "  Forma_pagamento= input(\"Qual forma de pagamento Debito ou Credito? \").lower()\n",
        "\n",
        "if Forma_pagamento in (\"débito\",\"debito\"):\n",
        "  acrecimo= porcentagem_gorjeta\n",
        "  valor_final= valor_total + (valor_total * acrecimo)\n",
        "elif Forma_pagamento in (\"crédito\",\"credito\"):\n",
        "  acrecimo= porcentagem_gorjeta\n",
        "  valor_final= valor_total + (valor_total * acrecimo)\n",
        "else:\n",
        "  print(\"forma de pagamento invalida\")\n",
        "  exit()\n",
        "\n",
        "\n",
        "print(\"\\nResumo do Pedido:\")\n",
        "print(f\"Cliente: {nome} \")\n",
        "print(\"Mesa\",mesa)\n",
        "print(f\"seu pedido {','.join(pedidos_validos)}\")\n",
        "print(f\"Total a pagar: R$ {valor_final:.2f} ({Forma_pagamento.capitalize()})\")\n",
        "print(f\"Gorjeta: {sistema.output['gorjeta']:.2f}'%'\")\n",
        "print(\"Obrigado pela preferência VOLTE SEMPRE! 🍕\")\n"
      ]
    }
  ]
}
